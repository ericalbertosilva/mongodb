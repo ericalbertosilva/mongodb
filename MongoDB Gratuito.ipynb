{
 "cells": [
  {
   "cell_type": "markdown",
   "metadata": {},
   "source": [
    "# Para começar precisamos fazer o download do MongoDB de acordo com o seu sistema operacional"
   ]
  },
  {
   "cell_type": "markdown",
   "metadata": {},
   "source": [
    "Download do MongoDB – Windows\n",
    "https://www.mongodb.com/download-center?jmp=nav#community\n",
    "\n",
    "Download MongoDB – Mac\n",
    "https://www.mongodb.com/download-center?jmp=nav#community\n"
   ]
  },
  {
   "cell_type": "code",
   "execution_count": null,
   "metadata": {},
   "outputs": [],
   "source": [
    "#Criar diretório de dados no volume raiz\n",
    "    mkdir /Users/DaniMonteiroDBA/Desktop/MongoDB/data/db\n",
    "    mkdir /Users/ericalberto/Desktop/MongoDB/data/db\n"
   ]
  },
  {
   "cell_type": "markdown",
   "metadata": {},
   "source": [
    "# Iniciando os serviços e o cliente"
   ]
  },
  {
   "cell_type": "code",
   "execution_count": null,
   "metadata": {},
   "outputs": [],
   "source": [
    "#Iniciar o serviço do MongoDB \n",
    "/Applications/MongoDB/bin/mongod --port 27999 --logpath /Users/DaniMonteiroDBA/Desktop/MongoDB/data/server.log --dbpath /Users/DaniMonteiroDBA/Desktop/MongoDB/data/db\n",
    "/Applications/MongoDB/bin/mongod --port 27999 --logpath /Users/ericalberto/Desktop/MongoDB/data/server.log --dbpath /Users/ericalberto/Desktop/MongoDB/data/db"
   ]
  },
  {
   "cell_type": "code",
   "execution_count": null,
   "metadata": {},
   "outputs": [],
   "source": [
    "#Iniciar o shell MongoDB \n",
    "/Applications/MongoDB/bin/mongo --port 27999"
   ]
  },
  {
   "cell_type": "markdown",
   "metadata": {},
   "source": [
    "# Primeiros comandos"
   ]
  },
  {
   "cell_type": "code",
   "execution_count": null,
   "metadata": {},
   "outputs": [],
   "source": [
    "#Listar os comandos aplicáveis ao banco de dados\n",
    "db.help()"
   ]
  },
  {
   "cell_type": "code",
   "execution_count": null,
   "metadata": {},
   "outputs": [],
   "source": [
    "#Verificar todos os bancos de dados do servidor\n",
    "show dbs"
   ]
  },
  {
   "cell_type": "code",
   "execution_count": null,
   "metadata": {},
   "outputs": [],
   "source": [
    "#Verificar o banco de dados que está sendo usado\n",
    "db"
   ]
  },
  {
   "cell_type": "markdown",
   "metadata": {},
   "source": [
    "# Criando os primeiros objetos"
   ]
  },
  {
   "cell_type": "code",
   "execution_count": null,
   "metadata": {},
   "outputs": [],
   "source": [
    "#Criar um banco de dados\n",
    "use DB4B"
   ]
  },
  {
   "cell_type": "code",
   "execution_count": null,
   "metadata": {},
   "outputs": [],
   "source": [
    "#Criar Coleção\n",
    "db.createCollection(\"Atividades\")"
   ]
  },
  {
   "cell_type": "code",
   "execution_count": null,
   "metadata": {},
   "outputs": [],
   "source": [
    "#Verificar as informações de uma coleção\n",
    "db.Atividades.validate()"
   ]
  },
  {
   "cell_type": "code",
   "execution_count": null,
   "metadata": {},
   "outputs": [],
   "source": [
    "#Verificar as coleções criadas no Banco de Dados\n",
    "show collections"
   ]
  },
  {
   "cell_type": "markdown",
   "metadata": {},
   "source": [
    "# Insert"
   ]
  },
  {
   "cell_type": "code",
   "execution_count": null,
   "metadata": {},
   "outputs": [],
   "source": [
    "#Inserir um novo post no blog\n",
    "db.post.insert(\n",
    "    {\n",
    "_id: NumberInt(\"234\"), \n",
    "idAutor:  234,\n",
    "titulo: \"Titulo Post\",\n",
    "conteudo: \"Conteúdo do Post\",\n",
    "Comentarios: [\n",
    "{\n",
    " idAutor: NumberInt(234),\n",
    "\"comentário\": \"Texto do Comentário 1XXX\",\n",
    "},\n",
    "{\n",
    "idAutor: NumberInt(789),\n",
    "\"comentário\": \"Texto do Comentário 2\",\n",
    "  } ],\n",
    "tags: \t[\"tag1\", \"tag2\"]\n",
    "}\n",
    ")"
   ]
  },
  {
   "cell_type": "code",
   "execution_count": null,
   "metadata": {},
   "outputs": [],
   "source": [
    "#Inserir um novo post com insertOne\n",
    "db.post.insertOne({\n",
    "_id: NumberInt(\"5677\"), \n",
    "idAutor:  234,\n",
    "titulo: \"Titulo Post\",\n",
    "conteudo: \"Conteúdo do Post\",\n",
    "Comentarios: [\n",
    "{\n",
    " idAutor: NumberInt(234),\n",
    "\"comentário\": \"Texto do Comentário 1XXX\"\n",
    "},\n",
    "{\n",
    "idAutor: NumberInt(789),\n",
    "    \n",
    "\"comentário\": \"Texto do Comentário 2\"\n",
    "  } ],\n",
    "tags: \t[\"tag1\", \"tag2\"]\n",
    "})"
   ]
  },
  {
   "cell_type": "code",
   "execution_count": null,
   "metadata": {},
   "outputs": [],
   "source": [
    "#Inserir 2 autores\n",
    "db.autor.insertMany([\n",
    "{_id: 789, nome : \"Autor Teste 3\", email: \"jose@db4begginers.com\"},\n",
    "{_id : 234, nome : \"Segundo Autor Teste\", email: \"segundo@daniacademy.com\"}\n",
    "])"
   ]
  },
  {
   "cell_type": "code",
   "execution_count": null,
   "metadata": {},
   "outputs": [],
   "source": [
    "#verificar quantidade de autores\n",
    "db.autor.count()"
   ]
  },
  {
   "cell_type": "markdown",
   "metadata": {},
   "source": [
    "# Find"
   ]
  },
  {
   "cell_type": "code",
   "execution_count": null,
   "metadata": {},
   "outputs": [],
   "source": [
    "#Não exibir o atributo _id no retorno da consulta\n",
    "db.post.find({}, {_id :0})"
   ]
  },
  {
   "cell_type": "code",
   "execution_count": null,
   "metadata": {},
   "outputs": [],
   "source": [
    "#Exibir somente título e conteúdo do post\n",
    "db.post.find({}, {titulo : 1, conteudo: 1})"
   ]
  },
  {
   "cell_type": "code",
   "execution_count": null,
   "metadata": {},
   "outputs": [],
   "source": [
    "#Buscar o texto dos comentários (objeto dentro de um array)\n",
    "db.post.find({}, { \"Comentarios.comentário\": 1})"
   ]
  },
  {
   "cell_type": "code",
   "execution_count": null,
   "metadata": {},
   "outputs": [],
   "source": [
    "#Ordenar a consulta por idAutor\n",
    "db.post.find({}, {idAutor : 1, titulo : 1, conteudo: 1}).sort({_id : 1}).pretty()\n",
    "db.post.find({}, {idAutor : 1, titulo : 1, conteudo: 1}).sort({_id : -1}) .pretty()"
   ]
  },
  {
   "cell_type": "code",
   "execution_count": null,
   "metadata": {},
   "outputs": [],
   "source": [
    "#query usando o operador in\n",
    "db.post.find({tags : {$in : [\"tag1\", \"tag2\"]}}, {idAutor : 1, titulo : 1, conteudo: 1})"
   ]
  },
  {
   "cell_type": "code",
   "execution_count": null,
   "metadata": {},
   "outputs": [],
   "source": [
    "#query usando o operador $OR\n",
    "db.post.find({$or : [{titulo: \"Titulo Post\"}, {idAutor : 789} ]}).pretty()"
   ]
  },
  {
   "cell_type": "code",
   "execution_count": null,
   "metadata": {},
   "outputs": [],
   "source": [
    "#Consultas usando expressões regulares\n",
    "db.autor.find({ email : /@db4beginners.com/})"
   ]
  },
  {
   "cell_type": "markdown",
   "metadata": {},
   "source": [
    "# Update"
   ]
  },
  {
   "cell_type": "code",
   "execution_count": null,
   "metadata": {},
   "outputs": [],
   "source": [
    "#Atualizar a estrutura do documento autor\n",
    "db.autor.update({_id : 234}, {atributoTeste :123})"
   ]
  },
  {
   "cell_type": "code",
   "execution_count": null,
   "metadata": {},
   "outputs": [],
   "source": [
    "#Validar execução do comando\n",
    "db.autor.find({_id : 234}).pretty()"
   ]
  },
  {
   "cell_type": "code",
   "execution_count": null,
   "metadata": {},
   "outputs": [],
   "source": [
    "#Criando um novo autor com o comando save\n",
    "db.autor.save({_id : 23466}, {atributoTeste :123})"
   ]
  },
  {
   "cell_type": "code",
   "execution_count": null,
   "metadata": {},
   "outputs": [],
   "source": [
    "#Criando um novo atributo \n",
    "db.autor.update({_id : 23466}, {$inc :{contador: 5}})"
   ]
  },
  {
   "cell_type": "code",
   "execution_count": null,
   "metadata": {},
   "outputs": [],
   "source": [
    "#Atualizar o valor do atributo nome\n",
    "db.autor.update({_id : 234}, {$set :{nome : \"Antonio Carlos\"}}, {upsert : true})"
   ]
  },
  {
   "cell_type": "code",
   "execution_count": null,
   "metadata": {},
   "outputs": [],
   "source": [
    "#Incluir um novo atributo em um documento\n",
    "db.autor.update({_id : 23466}, {$set :{OutroNome : \"Antonio Carlos\"}}, {upsert : true})"
   ]
  },
  {
   "cell_type": "code",
   "execution_count": null,
   "metadata": {},
   "outputs": [],
   "source": [
    "#Remover o novo atributo em um documento\n",
    "db.autor.update({_id : 23466}, {$unset :{OutroNome : \"Antonio Carlos\"}}, {upsert : true})"
   ]
  },
  {
   "cell_type": "code",
   "execution_count": null,
   "metadata": {},
   "outputs": [],
   "source": [
    "#Localizando e excluindo o documento com o _id 5677\n",
    "db.post.findAndModify({query: {_id : 5677} , sort:{nome: -1}, remove : true})"
   ]
  },
  {
   "cell_type": "code",
   "execution_count": null,
   "metadata": {},
   "outputs": [],
   "source": [
    "#Localizando e alterando um documento\n",
    "db.autor.findAndModify ({query : {_id : 23466} , sort: {_id : 1} , update: {$set :{OutroNome : \"Antonio Carlos\"}}})"
   ]
  },
  {
   "cell_type": "code",
   "execution_count": null,
   "metadata": {},
   "outputs": [],
   "source": [
    "#Localizando e alterando um documento, e retornando o documento alterado\n",
    "db.autor.findAndModify ({query : {_id : 23466} , sort: {_id : 1} , update: {$set :{OutroNome : \"Antonio Carlos\"}}, new : true})"
   ]
  },
  {
   "cell_type": "markdown",
   "metadata": {},
   "source": [
    "# Remove"
   ]
  },
  {
   "cell_type": "code",
   "execution_count": null,
   "metadata": {},
   "outputs": [],
   "source": [
    "#Excluir um documento que obedeça uma condição\n",
    "db.post.remove({\"Comentarios.comentário\" : \"Texto do Comentário 2\"})"
   ]
  },
  {
   "cell_type": "code",
   "execution_count": null,
   "metadata": {},
   "outputs": [],
   "source": [
    "#Excluir todos os documentos de uma coleção\n",
    "db.post.remove({})"
   ]
  },
  {
   "cell_type": "code",
   "execution_count": null,
   "metadata": {},
   "outputs": [],
   "source": [
    "#Excluir a coleção \n",
    "db.post.drop()"
   ]
  },
  {
   "cell_type": "code",
   "execution_count": null,
   "metadata": {},
   "outputs": [],
   "source": [
    "#Exclui banco de dados\n",
    "db.dropDatabase()"
   ]
  },
  {
   "cell_type": "markdown",
   "metadata": {},
   "source": [
    "# Monitoração Gratuita"
   ]
  },
  {
   "cell_type": "code",
   "execution_count": null,
   "metadata": {},
   "outputs": [],
   "source": [
    "#Habilitar monitoração\n",
    "db.enableFreeMonitoring()"
   ]
  },
  {
   "cell_type": "code",
   "execution_count": null,
   "metadata": {},
   "outputs": [],
   "source": [
    "#Desabilitar monitoração\n",
    "db.disableFreeMonitoring()"
   ]
  }
 ],
 "metadata": {
  "kernelspec": {
   "display_name": "Python 3",
   "language": "python",
   "name": "python3"
  },
  "language_info": {
   "codemirror_mode": {
    "name": "ipython",
    "version": 3
   },
   "file_extension": ".py",
   "mimetype": "text/x-python",
   "name": "python",
   "nbconvert_exporter": "python",
   "pygments_lexer": "ipython3",
   "version": "3.7.6"
  }
 },
 "nbformat": 4,
 "nbformat_minor": 2
}
